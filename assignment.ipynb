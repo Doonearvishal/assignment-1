{
 "cells": [
  {
   "cell_type": "code",
   "execution_count": 3,
   "id": "adcb13ba-c558-4474-8811-0ce1571fe3bb",
   "metadata": {},
   "outputs": [],
   "source": [
    " ## Q.1 create one variable containing following type of data:"
   ]
  },
  {
   "cell_type": "code",
   "execution_count": 4,
   "id": "71bbb879-b9b6-4951-8340-2a9f2a242ebe",
   "metadata": {},
   "outputs": [],
   "source": [
    "# (i) string"
   ]
  },
  {
   "cell_type": "code",
   "execution_count": 5,
   "id": "660416be-b137-4830-8367-9f0446f31a37",
   "metadata": {},
   "outputs": [],
   "source": [
    "s = \"vishal\""
   ]
  },
  {
   "cell_type": "code",
   "execution_count": 6,
   "id": "e6c2dbda-6292-42b2-b294-d7b3929bdb73",
   "metadata": {},
   "outputs": [
    {
     "data": {
      "text/plain": [
       "str"
      ]
     },
     "execution_count": 6,
     "metadata": {},
     "output_type": "execute_result"
    }
   ],
   "source": [
    "type(s)"
   ]
  },
  {
   "cell_type": "code",
   "execution_count": 7,
   "id": "209689df-180a-4ac0-8b85-30e8d1d79edb",
   "metadata": {},
   "outputs": [],
   "source": [
    "# (ii) list"
   ]
  },
  {
   "cell_type": "code",
   "execution_count": 8,
   "id": "e22cfd8d-b706-4eb3-8fb4-b695a3ecc05f",
   "metadata": {},
   "outputs": [],
   "source": [
    "l = [1,2,3]"
   ]
  },
  {
   "cell_type": "code",
   "execution_count": 9,
   "id": "255da5bf-6c3e-4305-8032-be28e7bb27d1",
   "metadata": {},
   "outputs": [
    {
     "data": {
      "text/plain": [
       "list"
      ]
     },
     "execution_count": 9,
     "metadata": {},
     "output_type": "execute_result"
    }
   ],
   "source": [
    "type(l)"
   ]
  },
  {
   "cell_type": "code",
   "execution_count": 10,
   "id": "7ac78457-85bd-4465-a150-cba7bf770eba",
   "metadata": {},
   "outputs": [],
   "source": [
    "# (iii) float"
   ]
  },
  {
   "cell_type": "code",
   "execution_count": 11,
   "id": "eb5e25e4-d271-4581-9d64-9e97b5a61938",
   "metadata": {},
   "outputs": [],
   "source": [
    "f = 3.1234"
   ]
  },
  {
   "cell_type": "code",
   "execution_count": 12,
   "id": "bffb450b-1f66-4b98-a028-866a353611f9",
   "metadata": {},
   "outputs": [
    {
     "data": {
      "text/plain": [
       "float"
      ]
     },
     "execution_count": 12,
     "metadata": {},
     "output_type": "execute_result"
    }
   ],
   "source": [
    "type(f)"
   ]
  },
  {
   "cell_type": "code",
   "execution_count": 13,
   "id": "828abecc-f1a1-49cc-b258-37888ebde26c",
   "metadata": {},
   "outputs": [],
   "source": [
    "# (iv) tuple"
   ]
  },
  {
   "cell_type": "code",
   "execution_count": 14,
   "id": "32bc82b5-8772-4e8c-9306-09e788de6678",
   "metadata": {},
   "outputs": [],
   "source": [
    "t = (1,2,3)"
   ]
  },
  {
   "cell_type": "code",
   "execution_count": 15,
   "id": "41c58100-eabd-4f81-bb85-e69b7f5a4200",
   "metadata": {},
   "outputs": [
    {
     "data": {
      "text/plain": [
       "tuple"
      ]
     },
     "execution_count": 15,
     "metadata": {},
     "output_type": "execute_result"
    }
   ],
   "source": [
    "type(t)"
   ]
  },
  {
   "cell_type": "code",
   "execution_count": 23,
   "id": "41fb25a2-2bdd-4b87-beba-ca152b65a3d9",
   "metadata": {},
   "outputs": [],
   "source": [
    "## Q.2 Given are some following varibles containing data:\n",
    "\n",
    "#(i) var1 = '' \n",
    "#(ii) var2 = '[DS,ML,Python]'\n",
    "#(iii)var3 = ['DS','ML'.'Python']\n",
    "#(iv)var4 = 1\n",
    "\n",
    "\n",
    "## what will be the data type of the above given varible.\n"
   ]
  },
  {
   "cell_type": "code",
   "execution_count": 24,
   "id": "4b0accff-c6fe-4616-948d-fcaeaed78cf3",
   "metadata": {},
   "outputs": [],
   "source": [
    "var1 = ''"
   ]
  },
  {
   "cell_type": "code",
   "execution_count": 25,
   "id": "4ed45966-c504-451a-a1ef-037ac11e393d",
   "metadata": {},
   "outputs": [
    {
     "data": {
      "text/plain": [
       "str"
      ]
     },
     "execution_count": 25,
     "metadata": {},
     "output_type": "execute_result"
    }
   ],
   "source": [
    "type(var1)"
   ]
  },
  {
   "cell_type": "code",
   "execution_count": 26,
   "id": "d7db106a-83a7-4273-ba1a-e74afd4c030e",
   "metadata": {},
   "outputs": [],
   "source": [
    "var2 = '[DS,ML,Python]'"
   ]
  },
  {
   "cell_type": "code",
   "execution_count": 27,
   "id": "89d8c2fe-cb51-4c50-8d62-d4cce2cb42a3",
   "metadata": {},
   "outputs": [
    {
     "data": {
      "text/plain": [
       "str"
      ]
     },
     "execution_count": 27,
     "metadata": {},
     "output_type": "execute_result"
    }
   ],
   "source": [
    "type(var2)"
   ]
  },
  {
   "cell_type": "code",
   "execution_count": 28,
   "id": "3b0b925f-5b7d-472e-8598-108f0639ea26",
   "metadata": {},
   "outputs": [],
   "source": [
    "var3 = ['DS','ML','Python']"
   ]
  },
  {
   "cell_type": "code",
   "execution_count": 29,
   "id": "b079d216-777d-4619-8488-826f6460bd67",
   "metadata": {},
   "outputs": [
    {
     "data": {
      "text/plain": [
       "list"
      ]
     },
     "execution_count": 29,
     "metadata": {},
     "output_type": "execute_result"
    }
   ],
   "source": [
    "type(var3)"
   ]
  },
  {
   "cell_type": "code",
   "execution_count": 30,
   "id": "f74fddfa-fe12-45c1-9538-2e6601ebed7b",
   "metadata": {},
   "outputs": [],
   "source": [
    "var4 = 1"
   ]
  },
  {
   "cell_type": "code",
   "execution_count": 31,
   "id": "57dacfd1-3143-40d2-94df-3d53d4ad2f9f",
   "metadata": {},
   "outputs": [
    {
     "data": {
      "text/plain": [
       "int"
      ]
     },
     "execution_count": 31,
     "metadata": {},
     "output_type": "execute_result"
    }
   ],
   "source": [
    "type(var4)"
   ]
  },
  {
   "cell_type": "code",
   "execution_count": 32,
   "id": "4c92a8ba-6859-4d55-89fe-8aed81383d9b",
   "metadata": {},
   "outputs": [],
   "source": [
    "## Q.3 Explain the use of the following operators using an example:\n",
    "\n",
    "#(i) /\n",
    "#(ii) %\n",
    "#(iii) //\n",
    "#(iv) **\n"
   ]
  },
  {
   "cell_type": "code",
   "execution_count": 34,
   "id": "68b1a527-f7f9-4611-a1e9-4b58813229a5",
   "metadata": {},
   "outputs": [],
   "source": [
    "#(i) /"
   ]
  },
  {
   "cell_type": "code",
   "execution_count": 37,
   "id": "90a8c285-91f7-4693-9c7f-94163a1177a6",
   "metadata": {},
   "outputs": [
    {
     "data": {
      "text/plain": [
       "3.3333333333333335"
      ]
     },
     "execution_count": 37,
     "metadata": {},
     "output_type": "execute_result"
    }
   ],
   "source": [
    "10/3"
   ]
  },
  {
   "cell_type": "code",
   "execution_count": 38,
   "id": "8d126ef3-52f6-4226-9ad8-f7470f7ca5f4",
   "metadata": {},
   "outputs": [],
   "source": [
    "#(ii) %"
   ]
  },
  {
   "cell_type": "code",
   "execution_count": 39,
   "id": "63733941-8637-4ea5-8c0b-df7d969a5862",
   "metadata": {},
   "outputs": [
    {
     "data": {
      "text/plain": [
       "1"
      ]
     },
     "execution_count": 39,
     "metadata": {},
     "output_type": "execute_result"
    }
   ],
   "source": [
    "10%3"
   ]
  },
  {
   "cell_type": "code",
   "execution_count": 40,
   "id": "1033fc1d-891c-46a4-938b-2516741c4f7a",
   "metadata": {},
   "outputs": [],
   "source": [
    "#(iii) //"
   ]
  },
  {
   "cell_type": "code",
   "execution_count": 41,
   "id": "f55299d3-fc2f-4269-9bd2-07ddb66fb4f4",
   "metadata": {},
   "outputs": [
    {
     "data": {
      "text/plain": [
       "3"
      ]
     },
     "execution_count": 41,
     "metadata": {},
     "output_type": "execute_result"
    }
   ],
   "source": [
    "10 // 3"
   ]
  },
  {
   "cell_type": "code",
   "execution_count": 42,
   "id": "2f67a05e-acf4-4e03-a57f-812a98413076",
   "metadata": {},
   "outputs": [],
   "source": [
    "# (iv) ** "
   ]
  },
  {
   "cell_type": "code",
   "execution_count": 43,
   "id": "578462b4-567c-4c02-b9e8-7e2c8ebbc261",
   "metadata": {},
   "outputs": [
    {
     "data": {
      "text/plain": [
       "8"
      ]
     },
     "execution_count": 43,
     "metadata": {},
     "output_type": "execute_result"
    }
   ],
   "source": [
    "2**3"
   ]
  },
  {
   "cell_type": "code",
   "execution_count": 45,
   "id": "a854e11d-81e8-4694-b252-74c6637e1755",
   "metadata": {},
   "outputs": [],
   "source": [
    "## Q.4 Create a list of leangth 10 of your choice containing multiple types of data.Using for loop print the element and its data type."
   ]
  },
  {
   "cell_type": "code",
   "execution_count": 47,
   "id": "eb2be6fe-81db-4113-a5b8-34290bfb6309",
   "metadata": {},
   "outputs": [
    {
     "name": "stdout",
     "output_type": "stream",
     "text": [
      "Element: 1, Type: <class 'int'>\n",
      "Element: hello, Type: <class 'str'>\n",
      "Element: 3.14, Type: <class 'float'>\n",
      "Element: True, Type: <class 'bool'>\n",
      "Element: [5, 6], Type: <class 'list'>\n",
      "Element: a, Type: <class 'str'>\n",
      "Element: {'key': 'value'}, Type: <class 'dict'>\n",
      "Element: None, Type: <class 'NoneType'>\n",
      "Element: (7, 8), Type: <class 'tuple'>\n",
      "Element: -9, Type: <class 'int'>\n"
     ]
    }
   ],
   "source": [
    "l = [ 1, \"hello\", 3.14, True, [5,6], 'a' , {'key' : 'value'}, None, (7,8), -9]\n",
    "\n",
    "for element in l:\n",
    "    print(f\"Element: {element}, Type: {type(element)}\")"
   ]
  },
  {
   "cell_type": "code",
   "execution_count": 48,
   "id": "f4357ae0-e018-4b1c-9674-79569d2c4bc5",
   "metadata": {},
   "outputs": [],
   "source": [
    "## Q.5 Using a while loop, verify if the number A is purely divisible by number B and if so then how many times it can be divisible."
   ]
  },
  {
   "cell_type": "code",
   "execution_count": 54,
   "id": "984d27bf-2536-40ed-a224-a132541600cd",
   "metadata": {},
   "outputs": [
    {
     "name": "stdout",
     "output_type": "stream",
     "text": [
      "A is divisible by B 1 times.\n"
     ]
    }
   ],
   "source": [
    "A = 30 \n",
    "B = 5\n",
    "count = 0 \n",
    "\n",
    "while A % B == 0:\n",
    "    A /= B\n",
    "    count += 1 \n",
    "    \n",
    "print(f\"A is divisible by B {count} times.\")"
   ]
  },
  {
   "cell_type": "code",
   "execution_count": 55,
   "id": "85323cc3-6b2c-4fe1-8eeb-050bfed3668b",
   "metadata": {},
   "outputs": [],
   "source": [
    "## Q.6 Create a list containing 25 int type data. Using for loop and if-else condition print if the element is divisible by 3 on not. "
   ]
  },
  {
   "cell_type": "code",
   "execution_count": 56,
   "id": "cafe8b37-5e19-4901-8316-513cfc903c0c",
   "metadata": {},
   "outputs": [
    {
     "name": "stdout",
     "output_type": "stream",
     "text": [
      "1 is not divisible by 3\n",
      "3 is divisible by 3\n",
      "6 is divisible by 3\n",
      "9 is divisible by 3\n",
      "12 is divisible by 3\n",
      "15 is divisible by 3\n",
      "18 is divisible by 3\n",
      "21 is divisible by 3\n",
      "24 is divisible by 3\n",
      "27 is divisible by 3\n",
      "30 is divisible by 3\n",
      "33 is divisible by 3\n",
      "36 is divisible by 3\n",
      "39 is divisible by 3\n",
      "42 is divisible by 3\n",
      "45 is divisible by 3\n",
      "48 is divisible by 3\n",
      "51 is divisible by 3\n",
      "54 is divisible by 3\n",
      "57 is divisible by 3\n",
      "60 is divisible by 3\n",
      "63 is divisible by 3\n",
      "66 is divisible by 3\n",
      "69 is divisible by 3\n",
      "72 is divisible by 3\n"
     ]
    }
   ],
   "source": [
    "l2 = [ 1,3,6,9,12,15,18,21,24,27,30,33,36,39,42,45,48,51,54,57,60,63,66,69,72]\n",
    "\n",
    "for num in l2:\n",
    "    if num % 3 == 0:\n",
    "        print(f\"{num} is divisible by 3\")\n",
    "    else:\n",
    "        print(f\"{num} is not divisible by 3\")"
   ]
  },
  {
   "cell_type": "code",
   "execution_count": 65,
   "id": "8f21b08e-06c1-4a32-8a84-8c2f076ed414",
   "metadata": {},
   "outputs": [],
   "source": [
    "## Q.7 What do you understand about mutable and immutable data types? Give examples for both showing this property."
   ]
  },
  {
   "cell_type": "code",
   "execution_count": null,
   "id": "6a6f37f7-70ad-4738-bb52-7d1ec33b0f78",
   "metadata": {},
   "outputs": [],
   "source": [
    "# Mutable Example (list):"
   ]
  },
  {
   "cell_type": "code",
   "execution_count": 58,
   "id": "3558b49f-a642-465e-8827-6cb0c8fe7248",
   "metadata": {},
   "outputs": [],
   "source": [
    "l3 = [1,2,3]"
   ]
  },
  {
   "cell_type": "code",
   "execution_count": 62,
   "id": "28f5900b-ff32-45d8-bf27-e95b77145278",
   "metadata": {},
   "outputs": [
    {
     "data": {
      "text/plain": [
       "1"
      ]
     },
     "execution_count": 62,
     "metadata": {},
     "output_type": "execute_result"
    }
   ],
   "source": [
    "l3[0]"
   ]
  },
  {
   "cell_type": "code",
   "execution_count": 63,
   "id": "646848e5-ead9-43f6-90aa-8a89220328fb",
   "metadata": {},
   "outputs": [],
   "source": [
    "l3[0] = 10"
   ]
  },
  {
   "cell_type": "code",
   "execution_count": 64,
   "id": "4c386fda-7d81-482a-a50f-174aa4f6cb54",
   "metadata": {},
   "outputs": [
    {
     "data": {
      "text/plain": [
       "[10, 2, 3]"
      ]
     },
     "execution_count": 64,
     "metadata": {},
     "output_type": "execute_result"
    }
   ],
   "source": [
    "l3"
   ]
  },
  {
   "cell_type": "code",
   "execution_count": 66,
   "id": "8586cc80-b836-471e-89a8-1f8faabbb2ce",
   "metadata": {},
   "outputs": [],
   "source": [
    "# Immutable Example (Tuple):"
   ]
  },
  {
   "cell_type": "code",
   "execution_count": 67,
   "id": "a64e5982-d230-4ef5-bdd1-0b8120a99306",
   "metadata": {},
   "outputs": [],
   "source": [
    "t1 = (1,2,3,)"
   ]
  },
  {
   "cell_type": "code",
   "execution_count": 68,
   "id": "5801b2ee-ce2c-4589-9ada-df78ca1b8b69",
   "metadata": {},
   "outputs": [
    {
     "data": {
      "text/plain": [
       "(1, 2, 3)"
      ]
     },
     "execution_count": 68,
     "metadata": {},
     "output_type": "execute_result"
    }
   ],
   "source": [
    "t1"
   ]
  },
  {
   "cell_type": "code",
   "execution_count": null,
   "id": "0ab929a5-2525-4e44-b070-7f1a85cd924d",
   "metadata": {},
   "outputs": [],
   "source": []
  }
 ],
 "metadata": {
  "kernelspec": {
   "display_name": "Python 3 (ipykernel)",
   "language": "python",
   "name": "python3"
  },
  "language_info": {
   "codemirror_mode": {
    "name": "ipython",
    "version": 3
   },
   "file_extension": ".py",
   "mimetype": "text/x-python",
   "name": "python",
   "nbconvert_exporter": "python",
   "pygments_lexer": "ipython3",
   "version": "3.10.8"
  }
 },
 "nbformat": 4,
 "nbformat_minor": 5
}
