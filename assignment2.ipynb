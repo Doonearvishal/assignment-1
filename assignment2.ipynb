{
 "cells": [
  {
   "cell_type": "code",
   "execution_count": 2,
   "id": "1033db22-eb1b-450e-b0e8-037af2c1c042",
   "metadata": {},
   "outputs": [],
   "source": [
    "## Q.1 How do you comment code in Python? What are the different types of comments?"
   ]
  },
  {
   "cell_type": "code",
   "execution_count": 3,
   "id": "2f223223-1081-49ed-8329-d4da202bb734",
   "metadata": {},
   "outputs": [],
   "source": [
    "### Ans.1 In python, you can comment code using the # symbol for single-line comments or enclosing text within triple quotes ''' or \"\"\" for multi- line comments."
   ]
  },
  {
   "cell_type": "code",
   "execution_count": 4,
   "id": "7b0899dd-cb40-491b-b031-a9a533e82666",
   "metadata": {},
   "outputs": [],
   "source": [
    "## Q.2 what are variables in Python? How do you declare and assign values to varibles?"
   ]
  },
  {
   "cell_type": "code",
   "execution_count": 5,
   "id": "9586957a-a6a8-4d60-873d-0f811f60df97",
   "metadata": {},
   "outputs": [],
   "source": [
    "### Ans.2 Variables in Python are containers for storing data. You declare a variable by simply assigning a value to it using the assignment operator =."
   ]
  },
  {
   "cell_type": "code",
   "execution_count": 6,
   "id": "528681f5-f957-4772-84fa-8edf1e3a4189",
   "metadata": {},
   "outputs": [],
   "source": [
    "## Q.3 How do you convert one data type to another in Python? "
   ]
  },
  {
   "cell_type": "code",
   "execution_count": 7,
   "id": "8ed3ca6a-d4cc-4fdc-91cc-4626bf24effb",
   "metadata": {},
   "outputs": [],
   "source": [
    "### Ans.3 YOu can conver one data type to another using type conversion functions like int(), float(),str(),list(), etc."
   ]
  },
  {
   "cell_type": "code",
   "execution_count": 8,
   "id": "da0127bf-0aad-47e5-81d2-be2661a88c0d",
   "metadata": {},
   "outputs": [],
   "source": [
    "## Q.4 How do you write and execute a Python script from the command line?"
   ]
  },
  {
   "cell_type": "code",
   "execution_count": 9,
   "id": "4a350b07-dce8-4123-b48c-94bbb32cdd8b",
   "metadata": {},
   "outputs": [],
   "source": [
    "### Ans.4 To write and execute Python script from the command line, you first write your Python code in a .py file, then navigate to the directory containing the file using the command line and run python filename.py."
   ]
  },
  {
   "cell_type": "code",
   "execution_count": 15,
   "id": "c22aa07e-e71c-4e57-ac50-e093bebde2f4",
   "metadata": {},
   "outputs": [],
   "source": [
    "## Q.5 Given a list my_list = [1,2,3,4,5], write the code to slice the list and obtain the sub-list[2,3]."
   ]
  },
  {
   "cell_type": "code",
   "execution_count": 17,
   "id": "d369fa00-29ed-405d-a65d-97e7083feb7c",
   "metadata": {},
   "outputs": [],
   "source": [
    "my_list = [1,2,3,4,5]"
   ]
  },
  {
   "cell_type": "code",
   "execution_count": 18,
   "id": "405b73af-5dca-4da1-9217-d76e828759f9",
   "metadata": {},
   "outputs": [
    {
     "data": {
      "text/plain": [
       "[2, 3]"
      ]
     },
     "execution_count": 18,
     "metadata": {},
     "output_type": "execute_result"
    }
   ],
   "source": [
    "my_list[1:3]"
   ]
  },
  {
   "cell_type": "code",
   "execution_count": 19,
   "id": "856fc017-c0fc-40e4-beba-c849565dd7e3",
   "metadata": {},
   "outputs": [],
   "source": [
    "## Q.6 what is a complex number in mathematics, and how is it represented in Python?"
   ]
  },
  {
   "cell_type": "code",
   "execution_count": 20,
   "id": "ded034e6-25df-4f3f-b27e-0ef8771439ef",
   "metadata": {},
   "outputs": [],
   "source": [
    "### Ans.6 A complex number in mathematics is a number that comprises a real part and an imaginary part. In Python, you represent complex numbers using the syntax a +bj, where a is the real part, b is the imaginary part, and j represents the imaginary unit."
   ]
  },
  {
   "cell_type": "code",
   "execution_count": 21,
   "id": "53227345-93ce-4b1a-8652-88b0a9ce7880",
   "metadata": {},
   "outputs": [],
   "source": [
    "## Q.7 what is the correct way to declare a variable named age and assign the value 25 to it?"
   ]
  },
  {
   "cell_type": "code",
   "execution_count": 27,
   "id": "30c891d0-e3a8-4884-a4f6-e047bad17c7d",
   "metadata": {},
   "outputs": [],
   "source": [
    "age = 25"
   ]
  },
  {
   "cell_type": "code",
   "execution_count": 28,
   "id": "46f2463a-8835-45cb-9e8f-f74f64b9a058",
   "metadata": {},
   "outputs": [
    {
     "data": {
      "text/plain": [
       "int"
      ]
     },
     "execution_count": 28,
     "metadata": {},
     "output_type": "execute_result"
    }
   ],
   "source": [
    "type(age)"
   ]
  },
  {
   "cell_type": "code",
   "execution_count": 24,
   "id": "1d356152-cf39-42e1-a1c9-8d42b6e3f495",
   "metadata": {},
   "outputs": [],
   "source": [
    "## Q.8 Declare a variable named  price and assign the value 9.99 to it. What data type does this variable belong to?"
   ]
  },
  {
   "cell_type": "code",
   "execution_count": 25,
   "id": "5c474547-f7b5-4bba-9b8c-18efaefe29f0",
   "metadata": {},
   "outputs": [],
   "source": [
    "price = 9.99"
   ]
  },
  {
   "cell_type": "code",
   "execution_count": 26,
   "id": "ae0bbe68-2699-41ac-b70c-ea6fbc0fac7e",
   "metadata": {},
   "outputs": [
    {
     "data": {
      "text/plain": [
       "float"
      ]
     },
     "execution_count": 26,
     "metadata": {},
     "output_type": "execute_result"
    }
   ],
   "source": [
    "type(price)"
   ]
  },
  {
   "cell_type": "code",
   "execution_count": 29,
   "id": "9c1c017f-66cc-485a-b07e-a1f897b53e49",
   "metadata": {},
   "outputs": [],
   "source": [
    "## Q.9 Create a variable named name and assign your full name to it as a string. How would you print the value of the variable?"
   ]
  },
  {
   "cell_type": "code",
   "execution_count": 31,
   "id": "5e3b52bd-6405-4c95-9e5d-d0e922f6bc13",
   "metadata": {},
   "outputs": [
    {
     "name": "stdout",
     "output_type": "stream",
     "text": [
      "visha kumar pandey\n"
     ]
    }
   ],
   "source": [
    "name = \"visha kumar pandey\"\n",
    "print(name)"
   ]
  },
  {
   "cell_type": "code",
   "execution_count": 32,
   "id": "182df773-f219-419d-bfe6-ca265a591f2b",
   "metadata": {},
   "outputs": [],
   "source": [
    "## Q.10 Given the string \"Hello, World!\", extract the substring \"world\"."
   ]
  },
  {
   "cell_type": "code",
   "execution_count": 33,
   "id": "afeaa7b7-2c82-4c42-94e2-aedf11adb20b",
   "metadata": {},
   "outputs": [],
   "source": [
    "my_string = \"Hello, World!\""
   ]
  },
  {
   "cell_type": "code",
   "execution_count": 34,
   "id": "dfe45334-2d48-4088-86a0-cf3c5abdf0e5",
   "metadata": {},
   "outputs": [
    {
     "data": {
      "text/plain": [
       "'World'"
      ]
     },
     "execution_count": 34,
     "metadata": {},
     "output_type": "execute_result"
    }
   ],
   "source": [
    "my_string[7:12]"
   ]
  },
  {
   "cell_type": "code",
   "execution_count": 35,
   "id": "be867da5-1005-4677-bb99-6914ca8688a1",
   "metadata": {},
   "outputs": [],
   "source": [
    "## Q.11 Create a variable named \"is_student\" and assign it a boolean value indicating whether you are currently a student or not."
   ]
  },
  {
   "cell_type": "code",
   "execution_count": 36,
   "id": "fb3095d7-6dd1-4f40-ba75-f285d8f59acb",
   "metadata": {},
   "outputs": [],
   "source": [
    "is_student = True"
   ]
  },
  {
   "cell_type": "code",
   "execution_count": 37,
   "id": "693e86f0-0b91-4967-9095-dd8c6c1fd794",
   "metadata": {},
   "outputs": [
    {
     "data": {
      "text/plain": [
       "True"
      ]
     },
     "execution_count": 37,
     "metadata": {},
     "output_type": "execute_result"
    }
   ],
   "source": [
    "is_student"
   ]
  },
  {
   "cell_type": "code",
   "execution_count": null,
   "id": "1fd90d59-d3bc-46f6-af18-7cf346e66c46",
   "metadata": {},
   "outputs": [],
   "source": []
  }
 ],
 "metadata": {
  "kernelspec": {
   "display_name": "Python 3 (ipykernel)",
   "language": "python",
   "name": "python3"
  },
  "language_info": {
   "codemirror_mode": {
    "name": "ipython",
    "version": 3
   },
   "file_extension": ".py",
   "mimetype": "text/x-python",
   "name": "python",
   "nbconvert_exporter": "python",
   "pygments_lexer": "ipython3",
   "version": "3.10.8"
  }
 },
 "nbformat": 4,
 "nbformat_minor": 5
}
